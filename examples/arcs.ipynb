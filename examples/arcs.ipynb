{
 "cells": [
  {
   "cell_type": "code",
   "execution_count": 1,
   "id": "chronic-individual",
   "metadata": {},
   "outputs": [],
   "source": [
    "%matplotlib inline\n",
    "import matplotlib as mpl\n",
    "import matplotlib.pyplot as plt"
   ]
  },
  {
   "cell_type": "code",
   "execution_count": 2,
   "id": "bizarre-envelope",
   "metadata": {},
   "outputs": [],
   "source": [
    "from IPython.display import HTML, SVG\n",
    "import numpy as np\n",
    "from svgpath2mpl import parse_path"
   ]
  },
  {
   "cell_type": "code",
   "execution_count": 3,
   "id": "tight-smart",
   "metadata": {},
   "outputs": [
    {
     "data": {
      "image/png": "[encoded data removed]",
      "text/plain": [
       "<Figure size 648x648 with 12 Axes>"
      ]
     },
     "metadata": {
      "needs_background": "light"
     },
     "output_type": "display_data"
    }
   ],
   "source": [
    "rx, ry = 100, 50\n",
    "xi, yi = 200, 200\n",
    "xf, yf = 50, 50\n",
    "SVG_TEMPLATE = \"\"\"\n",
    "<svg height=\"400\" width=\"400\" stroke=\"black\" fill=\"red\" style=\"stroke-width:3;border:1px solid black;\">\n",
    "  <path d=\"{d}\" />\n",
    "</svg>\n",
    "\"\"\"\n",
    "\n",
    "fig = plt.figure(figsize=(9, 9))\n",
    "gs = plt.GridSpec(nrows=3, ncols=4)\n",
    "\n",
    "svgs = []\n",
    "i = 0\n",
    "for rotation in (0, 45, 270):\n",
    "    for large in (0, 1):\n",
    "        for sweep in (0, 1):\n",
    "            d = f'M {xi},{yi}  a{rx},{ry} {rotation} {large},{sweep} {xf},{yf}'\n",
    "            svgs.append(SVG_TEMPLATE.format(d=d))\n",
    "            path = parse_path(d)\n",
    "            ax = plt.subplot(gs[i])\n",
    "            patch = mpl.patches.PathPatch(\n",
    "                path, \n",
    "                facecolor='r', \n",
    "                edgecolor='k', \n",
    "                linewidth=3)\n",
    "            patch.set_transform(ax.transData);\n",
    "            ax.add_patch(patch);\n",
    "            ax.set_aspect(1);\n",
    "            ax.set_xlim(0, 400);\n",
    "            ax.set_ylim(400, 0);\n",
    "            if i in range(4):\n",
    "                ax.set_title(f\"large: {large}; sweep: {sweep}\")\n",
    "            i += 1\n"
   ]
  },
  {
   "cell_type": "code",
   "execution_count": 4,
   "id": "damaged-consequence",
   "metadata": {},
   "outputs": [
    {
     "data": {
      "text/html": [
       "<div style=\"display: grid; grid-template-columns: auto auto auto auto;\"><div>\n",
       "<svg height=\"400\" width=\"400\" stroke=\"black\" fill=\"red\" style=\"stroke-width:3;border:1px solid black;\">\n",
       "  <path d=\"M 200,200  a100,50 0 0,0 50,50\" />\n",
       "</svg>\n",
       "</div><div>\n",
       "<svg height=\"400\" width=\"400\" stroke=\"black\" fill=\"red\" style=\"stroke-width:3;border:1px solid black;\">\n",
       "  <path d=\"M 200,200  a100,50 0 0,1 50,50\" />\n",
       "</svg>\n",
       "</div><div>\n",
       "<svg height=\"400\" width=\"400\" stroke=\"black\" fill=\"red\" style=\"stroke-width:3;border:1px solid black;\">\n",
       "  <path d=\"M 200,200  a100,50 0 1,0 50,50\" />\n",
       "</svg>\n",
       "</div><div>\n",
       "<svg height=\"400\" width=\"400\" stroke=\"black\" fill=\"red\" style=\"stroke-width:3;border:1px solid black;\">\n",
       "  <path d=\"M 200,200  a100,50 0 1,1 50,50\" />\n",
       "</svg>\n",
       "</div><div>\n",
       "<svg height=\"400\" width=\"400\" stroke=\"black\" fill=\"red\" style=\"stroke-width:3;border:1px solid black;\">\n",
       "  <path d=\"M 200,200  a100,50 45 0,0 50,50\" />\n",
       "</svg>\n",
       "</div><div>\n",
       "<svg height=\"400\" width=\"400\" stroke=\"black\" fill=\"red\" style=\"stroke-width:3;border:1px solid black;\">\n",
       "  <path d=\"M 200,200  a100,50 45 0,1 50,50\" />\n",
       "</svg>\n",
       "</div><div>\n",
       "<svg height=\"400\" width=\"400\" stroke=\"black\" fill=\"red\" style=\"stroke-width:3;border:1px solid black;\">\n",
       "  <path d=\"M 200,200  a100,50 45 1,0 50,50\" />\n",
       "</svg>\n",
       "</div><div>\n",
       "<svg height=\"400\" width=\"400\" stroke=\"black\" fill=\"red\" style=\"stroke-width:3;border:1px solid black;\">\n",
       "  <path d=\"M 200,200  a100,50 45 1,1 50,50\" />\n",
       "</svg>\n",
       "</div><div>\n",
       "<svg height=\"400\" width=\"400\" stroke=\"black\" fill=\"red\" style=\"stroke-width:3;border:1px solid black;\">\n",
       "  <path d=\"M 200,200  a100,50 270 0,0 50,50\" />\n",
       "</svg>\n",
       "</div><div>\n",
       "<svg height=\"400\" width=\"400\" stroke=\"black\" fill=\"red\" style=\"stroke-width:3;border:1px solid black;\">\n",
       "  <path d=\"M 200,200  a100,50 270 0,1 50,50\" />\n",
       "</svg>\n",
       "</div><div>\n",
       "<svg height=\"400\" width=\"400\" stroke=\"black\" fill=\"red\" style=\"stroke-width:3;border:1px solid black;\">\n",
       "  <path d=\"M 200,200  a100,50 270 1,0 50,50\" />\n",
       "</svg>\n",
       "</div><div>\n",
       "<svg height=\"400\" width=\"400\" stroke=\"black\" fill=\"red\" style=\"stroke-width:3;border:1px solid black;\">\n",
       "  <path d=\"M 200,200  a100,50 270 1,1 50,50\" />\n",
       "</svg>\n",
       "</div></div>"
      ],
      "text/plain": [
       "<IPython.core.display.HTML object>"
      ]
     },
     "execution_count": 4,
     "metadata": {},
     "output_type": "execute_result"
    }
   ],
   "source": [
    "grid = '<div style=\"display: grid; grid-template-columns: auto auto auto auto;\">'\n",
    "for svg in svgs:\n",
    "    grid += f\"<div>{svg}</div>\"\n",
    "grid += \"</div>\"\n",
    "HTML(grid)"
   ]
  },
  {
   "cell_type": "markdown",
   "id": "helpful-burns",
   "metadata": {},
   "source": [
    "### Ice cream"
   ]
  },
  {
   "cell_type": "code",
   "execution_count": 5,
   "id": "basic-cheese",
   "metadata": {},
   "outputs": [
    {
     "data": {
      "image/png": "[encoded data removed]",
      "text/plain": [
       "<Figure size 432x288 with 1 Axes>"
      ]
     },
     "metadata": {
      "needs_background": "light"
     },
     "output_type": "display_data"
    }
   ],
   "source": [
    "d = 'M368 160h-.94a144 144 0 1 0-286.12 0H80a48 48 0 0 0 0 96h288a48 48 0 0 0 0-96zM195.38 493.69a31.52 31.52 0 0 0 57.24 0L352 288H96z'\n",
    "path = parse_path(d)\n",
    "\n",
    "fig, ax = plt.subplots(nrows=1, ncols=1)\n",
    "patch = mpl.patches.PathPatch(\n",
    "    path, \n",
    "    facecolor='lightblue', \n",
    "    edgecolor='black', \n",
    "    linewidth=1)\n",
    "patch.set_transform(ax.transData);\n",
    "ax.add_patch(patch);\n",
    "ax.set_aspect(1);\n",
    "ax.set_xlim(0, 445);\n",
    "ax.set_ylim(515, 0);"
   ]
  },
  {
   "cell_type": "code",
   "execution_count": 6,
   "id": "boxed-richmond",
   "metadata": {},
   "outputs": [
    {
     "data": {
      "image/svg+xml": [
       "<svg height=\"515\" width=\"445\" stroke=\"black\" fill=\"lightblue\" style=\"stroke-width:1;border:1px solid black;\">\n",
       "  <path d=\"M368 160h-.94a144 144 0 1 0-286.12 0H80a48 48 0 0 0 0 96h288a48 48 0 0 0 0-96zM195.38 493.69a31.52 31.52 0 0 0 57.24 0L352 288H96z\"/>\n",
       "</svg>"
      ],
      "text/plain": [
       "<IPython.core.display.SVG object>"
      ]
     },
     "execution_count": 6,
     "metadata": {},
     "output_type": "execute_result"
    }
   ],
   "source": [
    "SVG(data=f\"\"\"\n",
    "<svg height=\"515\" width=\"445\" stroke=\"black\" fill=\"lightblue\" style=\"stroke-width:1;border:1px solid black;\">\n",
    "  <path d=\"{d}\" />\n",
    "</svg>\"\"\")"
   ]
  },
  {
   "cell_type": "code",
   "execution_count": null,
   "id": "supreme-display",
   "metadata": {},
   "outputs": [],
   "source": []
  },
  {
   "cell_type": "code",
   "execution_count": null,
   "id": "awful-devon",
   "metadata": {},
   "outputs": [],
   "source": []
  },
  {
   "cell_type": "code",
   "execution_count": null,
   "id": "compliant-telling",
   "metadata": {},
   "outputs": [],
   "source": []
  },
  {
   "cell_type": "code",
   "execution_count": null,
   "id": "fatty-valley",
   "metadata": {},
   "outputs": [],
   "source": []
  }
 ],
 "metadata": {
  "kernelspec": {
   "display_name": "Python 3",
   "language": "python",
   "name": "python3"
  },
  "language_info": {
   "codemirror_mode": {
    "name": "ipython",
    "version": 3
   },
   "file_extension": ".py",
   "mimetype": "text/x-python",
   "name": "python",
   "nbconvert_exporter": "python",
   "pygments_lexer": "ipython3",
   "version": "3.8.5"
  }
 },
 "nbformat": 4,
 "nbformat_minor": 5
}
